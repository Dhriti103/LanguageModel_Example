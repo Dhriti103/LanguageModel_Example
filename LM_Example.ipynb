{
 "cells": [
  {
   "cell_type": "code",
   "execution_count": 1,
   "metadata": {},
   "outputs": [],
   "source": [
    "from nltk import FreqDist  #NLTK stands for Natural Language Tool Kit\n",
    "from nltk.corpus import stopwords\n",
    "from nltk.tokenize import word_tokenize\n",
    "from collections import Counter\n",
    "import seaborn as sns\n",
    "%matplotlib inline"
   ]
  },
  {
   "cell_type": "code",
   "execution_count": 2,
   "metadata": {},
   "outputs": [],
   "source": [
    "with open(r'C:\\Users\\dhrit\\OneDrive\\Desktop\\Dhriti\\Text_corpus.txt','r') as f:\n",
    "    contents = f.read().split()"
   ]
  },
  {
   "cell_type": "code",
   "execution_count": 3,
   "metadata": {},
   "outputs": [
    {
     "name": "stdout",
     "output_type": "stream",
     "text": [
      "['cardamom', '', 'queen', '', '', 'spices', '', '', 'history', '', 'old', '', '', 'human', 'race', '', '', '', 'dried', 'fruit', '', '', 'herbaceous', 'perennial', 'plant', 'warm', 'humid', 'climate', 'loamy', 'soil', 'rich', '', 'organic', 'matter', 'distributed', 'rainfall', '', 'special', 'cultivation', '', 'processing', 'methods', '', 'combine', '', 'make', 'indian', 'cardamom', 'truly', 'unique', '', 'aroma', 'flavour', 'size', '', '', '', '', 'parrot', 'green', 'colour', 'two', 'types', '', 'cardamom', '', 'produced', '', 'india', '', 'first', 'type', '', '', 'large', 'one', '', '', '', 'much', 'significance', '', '', '', '', 'traded', '', '', 'futures', 'market', '', '', 'cultivated', '', '', 'area', '', '', 'country', '', 'second', 'type', '', 'produced', '', '', 'southern', 'states', '', '', '', 'traded', '', '', 'futures', 'market', '', '', 'mainly', 'cultivated', '', 'kerala', 'tamil', 'nadu', '', 'karnataka', '', 'per', '', 'futures', 'market', 'rules', '', '', 'mm', 'quality', '', 'previously', 'traded', '', 'exchanges', '', 'later', '', 'relaxed', '', 'norms', '', '', '', 'mm', 'quality', '', 'also', 'traded', '', '', 'exchanges', '', 'small', 'variety', 'known', '', '', 'exotic', 'quality', 'throughout', '', 'world', '', '', 'traded', '', 'india', 'commodity', 'futures', 'exchanges', 'traditional', 'auction', 'markets', 'also', 'exist', '', 'trading', '', 'small', 'cardamom', '', '', 'country', 'cardamom', '', '', 'expensive', 'spice', 'second', '', '', 'saffron', '', '', 'often', 'adulterated', '', '', '', 'many', 'inferior', 'substitutes', '', '', 'plants', '', '', 'siam', 'cardamom', 'nepal', 'cardamom', 'winged', 'java', 'cardamom', 'etc', 'however', '', '', '', 'elettaria', 'cardamom', '', '', '', 'true', 'cardamom', 'indian', 'cardamom', '', 'known', '', 'two', 'main', 'varieties', 'malabar', 'cardamom', '', 'mysore', 'cardamom', '', 'mysore', 'variety', 'contains', 'levels', '', 'cineol', '', 'limonene', '', 'hence', '', '', 'aromatic', 'india', '', '', 'world', 'largest', 'producer', '', 'exporter', '', 'cardamom', 'till', '', '', '', '', 'guatemala', 'emerged', '', '', 'leading', 'producer', '', 'exporter', '', 'cardamom', '', 'main', 'harvest', 'season', '', 'cardamom', '', 'india', '', '', '', 'cardamom', 'reaches', 'yielding', 'stage', 'two', 'years', '', 'planting', '', 'primary', 'physical', 'markets', '', 'cardamom', '', 'kumily', 'vandenmedu', 'thekkady', 'puliyarmala', '', 'kerala', '', 'bodynaikkannur', '', 'cumbam', '', 'tamil', 'nadu', 'cardamom', 'auctions', 'also', 'take', 'place', '', 'sakalespur', '', 'sirsi', '', 'karnataka', 'north', 'india', '', '', 'main', 'market', '', 'cardamom', 'produced', '', '', 'country', 'normally', 'domestic', 'demand', 'goes', '', '', '', 'major', 'festivals', '', '', 'diwali', 'dusserah', '', 'id', 'colour', 'size', '', 'aroma', '', '', 'major', 'variables', '', 'shape', 'cardamom', 'prices', '', '', 'indian', 'market', 'cardamom', 'price', 'formation', '', 'india', '', 'also', 'influenced', '', '', 'output', '', 'guatemala', '', '', 'country', 'controls', '', 'global', 'markets', 'kerala', '', '', 'main', 'producer', '', 'cardamom', '', 'contributes', '', '', '', '', 'total', 'production', 'karnataka', 'roduces', 'around', '', 'cardamom', '', '', 'total', 'production', 'ooty', '', '', 'main', 'producer', '', 'cardamom', '', 'amil', 'nadu', '', 'contributes', 'around', '', '', '', 'total', 'production', 'besides', 'india', 'guatemala', 'also', 'produces', 'around', '', 'ton', 'cardamom', '', '', '', 'hand', 'india', 'produces', 'early', '', 'ton', 'cardamom', 'per', 'year', 'due', '', 'low', 'quality', '', 'cardamom', '', 'guatemala', '', 'remains', 'ailable', '', 'cheaper', 'rates', 'moreover', 'cardamom', '', 'indian', 'origin', 'fetches', '', '', 'per', 'kilogram', 'higher', 'rates', '', '', 'ones', '', 'guatemala']\n"
     ]
    }
   ],
   "source": [
    "def prep(doc):\n",
    "    'changes document to lower case and removes stopwords'\n",
    "\n",
    "    # change sentence to lower case\n",
    "    doc = doc.lower()\n",
    "\n",
    "    # tokenize into words\n",
    "    words = word_tokenize(doc)\n",
    "\n",
    "    # remove stop words\n",
    "    words = [word for word in words if word not in stopwords.words(\"english\")]\n",
    "    \n",
    "    # remove all tokens that are not alphabetic\n",
    "    words = [word for word in words if word.isalpha() and word != '']\n",
    "\n",
    "    # join words to make sentence\n",
    "    doc = \" \".join(words)\n",
    "    \n",
    "    return doc\n",
    "\n",
    "contents = [prep(content) for content in contents]\n",
    "print(contents)"
   ]
  },
  {
   "cell_type": "code",
   "execution_count": 4,
   "metadata": {},
   "outputs": [
    {
     "name": "stdout",
     "output_type": "stream",
     "text": [
      "['cardamom', 'queen', 'spices', 'history', 'old', 'human', 'race', 'dried', 'fruit', 'herbaceous', 'perennial', 'plant', 'warm', 'humid', 'climate', 'loamy', 'soil', 'rich', 'organic', 'matter', 'distributed', 'rainfall', 'special', 'cultivation', 'processing', 'methods', 'combine', 'make', 'indian', 'cardamom', 'truly', 'unique', 'aroma', 'flavour', 'size', 'parrot', 'green', 'colour', 'two', 'types', 'cardamom', 'produced', 'india', 'first', 'type', 'large', 'one', 'much', 'significance', 'traded', 'futures', 'market', 'cultivated', 'area', 'country', 'second', 'type', 'produced', 'southern', 'states', 'traded', 'futures', 'market', 'mainly', 'cultivated', 'kerala', 'tamil', 'nadu', 'karnataka', 'per', 'futures', 'market', 'rules', 'mm', 'quality', 'previously', 'traded', 'exchanges', 'later', 'relaxed', 'norms', 'mm', 'quality', 'also', 'traded', 'exchanges', 'small', 'variety', 'known', 'exotic', 'quality', 'throughout', 'world', 'traded', 'india', 'commodity', 'futures', 'exchanges', 'traditional', 'auction', 'markets', 'also', 'exist', 'trading', 'small', 'cardamom', 'country', 'cardamom', 'expensive', 'spice', 'second', 'saffron', 'often', 'adulterated', 'many', 'inferior', 'substitutes', 'plants', 'siam', 'cardamom', 'nepal', 'cardamom', 'winged', 'java', 'cardamom', 'etc', 'however', 'elettaria', 'cardamom', 'true', 'cardamom', 'indian', 'cardamom', 'known', 'two', 'main', 'varieties', 'malabar', 'cardamom', 'mysore', 'cardamom', 'mysore', 'variety', 'contains', 'levels', 'cineol', 'limonene', 'hence', 'aromatic', 'india', 'world', 'largest', 'producer', 'exporter', 'cardamom', 'till', 'guatemala', 'emerged', 'leading', 'producer', 'exporter', 'cardamom', 'main', 'harvest', 'season', 'cardamom', 'india', 'cardamom', 'reaches', 'yielding', 'stage', 'two', 'years', 'planting', 'primary', 'physical', 'markets', 'cardamom', 'kumily', 'vandenmedu', 'thekkady', 'puliyarmala', 'kerala', 'bodynaikkannur', 'cumbam', 'tamil', 'nadu', 'cardamom', 'auctions', 'also', 'take', 'place', 'sakalespur', 'sirsi', 'karnataka', 'north', 'india', 'main', 'market', 'cardamom', 'produced', 'country', 'normally', 'domestic', 'demand', 'goes', 'major', 'festivals', 'diwali', 'dusserah', 'id', 'colour', 'size', 'aroma', 'major', 'variables', 'shape', 'cardamom', 'prices', 'indian', 'market', 'cardamom', 'price', 'formation', 'india', 'also', 'influenced', 'output', 'guatemala', 'country', 'controls', 'global', 'markets', 'kerala', 'main', 'producer', 'cardamom', 'contributes', 'total', 'production', 'karnataka', 'roduces', 'around', 'cardamom', 'total', 'production', 'ooty', 'main', 'producer', 'cardamom', 'amil', 'nadu', 'contributes', 'around', 'total', 'production', 'besides', 'india', 'guatemala', 'also', 'produces', 'around', 'ton', 'cardamom', 'hand', 'india', 'produces', 'early', 'ton', 'cardamom', 'per', 'year', 'due', 'low', 'quality', 'cardamom', 'guatemala', 'remains', 'ailable', 'cheaper', 'rates', 'moreover', 'cardamom', 'indian', 'origin', 'fetches', 'per', 'kilogram', 'higher', 'rates', 'ones', 'guatemala']\n"
     ]
    }
   ],
   "source": [
    "# Further removing the spaces from document\n",
    "contents = [w for w in contents if w != '']\n",
    "print(contents)"
   ]
  },
  {
   "cell_type": "code",
   "execution_count": 5,
   "metadata": {},
   "outputs": [],
   "source": [
    "def plot_wfreq(w, top_n=10):\n",
    "    w_freq = FreqDist(w)\n",
    "    labels = [element[0] for element in w_freq.most_common(top_n)]\n",
    "    counts = [element[1] for element in w_freq.most_common(top_n)]\n",
    "    plot = sns.barplot(labels, counts, palette = 'Pastel1')\n",
    "    return plot"
   ]
  },
  {
   "cell_type": "code",
   "execution_count": 6,
   "metadata": {},
   "outputs": [
    {
     "data": {
      "text/plain": [
       "[Text(0, 0, 'cardamom'),\n",
       " Text(0, 0, 'india'),\n",
       " Text(0, 0, 'traded'),\n",
       " Text(0, 0, 'market'),\n",
       " Text(0, 0, 'also'),\n",
       " Text(0, 0, 'main'),\n",
       " Text(0, 0, 'guatemala'),\n",
       " Text(0, 0, 'indian'),\n",
       " Text(0, 0, 'futures'),\n",
       " Text(0, 0, 'country'),\n",
       " Text(0, 0, 'quality'),\n",
       " Text(0, 0, 'producer'),\n",
       " Text(0, 0, 'two'),\n",
       " Text(0, 0, 'produced'),\n",
       " Text(0, 0, 'kerala')]"
      ]
     },
     "execution_count": 6,
     "metadata": {},
     "output_type": "execute_result"
    },
    {
     "data": {
      "image/png": "[encoded data removed]",
      "text/plain": [
       "<Figure size 432x288 with 1 Axes>"
      ]
     },
     "metadata": {
      "needs_background": "light"
     },
     "output_type": "display_data"
    }
   ],
   "source": [
    "import seaborn as sns\n",
    "fdist_filtered = FreqDist(contents)\n",
    "p = plot_wfreq(contents, 15)\n",
    "p.set_xticklabels(p.get_xticklabels(), fontsize = 12, rotation=90)"
   ]
  },
  {
   "cell_type": "code",
   "execution_count": 7,
   "metadata": {},
   "outputs": [
    {
     "name": "stdout",
     "output_type": "stream",
     "text": [
      "0.16022099447513813\n"
     ]
    },
    {
     "data": {
      "text/plain": [
       "29"
      ]
     },
     "execution_count": 7,
     "metadata": {},
     "output_type": "execute_result"
    }
   ],
   "source": [
    "def prob(doc, term):\n",
    "    c = []\n",
    "    for i in doc:\n",
    "        if i == term:\n",
    "            c.append(i)\n",
    "    return len(c)/len(set(doc))\n",
    "\n",
    "print(prob(contents, 'cardamom'))\n",
    "\n",
    "c = Counter(contents)\n",
    "c['cardamom']\n",
    "# len(set(contents))\n"
   ]
  },
  {
   "cell_type": "code",
   "execution_count": 8,
   "metadata": {},
   "outputs": [
    {
     "name": "stdout",
     "output_type": "stream",
     "text": [
      "0.25\n"
     ]
    }
   ],
   "source": [
    "text = 'Education builds up your character and refines your soul'\n",
    "\n",
    "def prob_s(doc, term):\n",
    "    c = []\n",
    "    for i in doc.split():\n",
    "        if i == term:\n",
    "            c.append(i)\n",
    "    return len(c)/len(set(doc.split()))\n",
    "\n",
    "print(prob_s(text, 'your'))\n",
    "# set(text.split())"
   ]
  },
  {
   "cell_type": "code",
   "execution_count": 9,
   "metadata": {},
   "outputs": [
    {
     "data": {
      "text/plain": [
       "0.2222222222222222"
      ]
     },
     "execution_count": 9,
     "metadata": {},
     "output_type": "execute_result"
    }
   ],
   "source": [
    "2/9"
   ]
  },
  {
   "cell_type": "code",
   "execution_count": 10,
   "metadata": {},
   "outputs": [
    {
     "data": {
      "text/plain": [
       "22"
      ]
     },
     "execution_count": 10,
     "metadata": {},
     "output_type": "execute_result"
    }
   ],
   "source": [
    "s = \"Mona drinks coffee Mona wrote a letter to Tom Jerry drinks chocolate Jerry fights with Tom\"\n",
    "len(set(s))"
   ]
  },
  {
   "cell_type": "code",
   "execution_count": 11,
   "metadata": {},
   "outputs": [
    {
     "data": {
      "text/plain": [
       "0.16022099447513813"
      ]
     },
     "execution_count": 11,
     "metadata": {},
     "output_type": "execute_result"
    }
   ],
   "source": [
    "29/181\n",
    "# len(set(contents))"
   ]
  }
 ],
 "metadata": {
  "kernelspec": {
   "display_name": "Python 3",
   "language": "python",
   "name": "python3"
  },
  "language_info": {
   "codemirror_mode": {
    "name": "ipython",
    "version": 3
   },
   "file_extension": ".py",
   "mimetype": "text/x-python",
   "name": "python",
   "nbconvert_exporter": "python",
   "pygments_lexer": "ipython3",
   "version": "3.7.4"
  }
 },
 "nbformat": 4,
 "nbformat_minor": 2
}
